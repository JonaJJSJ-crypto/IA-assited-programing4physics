{
  "nbformat": 4,
  "nbformat_minor": 0,
  "metadata": {
    "colab": {
      "provenance": [],
      "authorship_tag": "ABX9TyMVaXV6RhctAAoNP5usTiit",
      "include_colab_link": true
    },
    "kernelspec": {
      "name": "python3",
      "display_name": "Python 3"
    },
    "language_info": {
      "name": "python"
    }
  },
  "cells": [
    {
      "cell_type": "markdown",
      "metadata": {
        "id": "view-in-github",
        "colab_type": "text"
      },
      "source": [
        "<a href=\"https://colab.research.google.com/github/JonaJJSJ-crypto/IA-assited-programing4physics/blob/main/VelocidadSonido.ipynb\" target=\"_parent\"><img src=\"https://colab.research.google.com/assets/colab-badge.svg\" alt=\"Open In Colab\"/></a>"
      ]
    },
    {
      "cell_type": "code",
      "source": [
        "import pandas as pd\n",
        "import matplotlib.pyplot as plt\n",
        "import numpy as np\n",
        "from scipy import stats\n",
        "\n",
        "datos = {\"v(m/s)_g1\":[331.78,328.70,338.99,315.39,339.97,334.84],\n",
        "         \"v(m/s)_g2\":[327.68,327.68,327.68,307.2,307.2,337.92],\n",
        "         \"v(m/s)_g3\":[327.68,334.85,342.02,331.78,334.34,335.87],\n",
        "         \"v(m/s)_g4\":[327.68,348.16,348.15,326.68,317.44,337.9]\n",
        "         }\n",
        "\n",
        "df = pd.DataFrame(datos)\n",
        "df"
      ],
      "metadata": {
        "colab": {
          "base_uri": "https://localhost:8080/",
          "height": 237
        },
        "id": "PL4vTIfZ1gLp",
        "outputId": "fa3d53c8-168f-48f9-d58d-9cfb0f37fe6e"
      },
      "execution_count": 106,
      "outputs": [
        {
          "output_type": "execute_result",
          "data": {
            "text/plain": [
              "   v(m/s)_g1  v(m/s)_g2  v(m/s)_g3  v(m/s)_g4\n",
              "0     331.78     327.68     327.68     327.68\n",
              "1     328.70     327.68     334.85     348.16\n",
              "2     338.99     327.68     342.02     348.15\n",
              "3     315.39     307.20     331.78     326.68\n",
              "4     339.97     307.20     334.34     317.44\n",
              "5     334.84     337.92     335.87     337.90"
            ],
            "text/html": [
              "\n",
              "  <div id=\"df-63a879a7-46c5-49c0-8cbe-cd5028b3a847\" class=\"colab-df-container\">\n",
              "    <div>\n",
              "<style scoped>\n",
              "    .dataframe tbody tr th:only-of-type {\n",
              "        vertical-align: middle;\n",
              "    }\n",
              "\n",
              "    .dataframe tbody tr th {\n",
              "        vertical-align: top;\n",
              "    }\n",
              "\n",
              "    .dataframe thead th {\n",
              "        text-align: right;\n",
              "    }\n",
              "</style>\n",
              "<table border=\"1\" class=\"dataframe\">\n",
              "  <thead>\n",
              "    <tr style=\"text-align: right;\">\n",
              "      <th></th>\n",
              "      <th>v(m/s)_g1</th>\n",
              "      <th>v(m/s)_g2</th>\n",
              "      <th>v(m/s)_g3</th>\n",
              "      <th>v(m/s)_g4</th>\n",
              "    </tr>\n",
              "  </thead>\n",
              "  <tbody>\n",
              "    <tr>\n",
              "      <th>0</th>\n",
              "      <td>331.78</td>\n",
              "      <td>327.68</td>\n",
              "      <td>327.68</td>\n",
              "      <td>327.68</td>\n",
              "    </tr>\n",
              "    <tr>\n",
              "      <th>1</th>\n",
              "      <td>328.70</td>\n",
              "      <td>327.68</td>\n",
              "      <td>334.85</td>\n",
              "      <td>348.16</td>\n",
              "    </tr>\n",
              "    <tr>\n",
              "      <th>2</th>\n",
              "      <td>338.99</td>\n",
              "      <td>327.68</td>\n",
              "      <td>342.02</td>\n",
              "      <td>348.15</td>\n",
              "    </tr>\n",
              "    <tr>\n",
              "      <th>3</th>\n",
              "      <td>315.39</td>\n",
              "      <td>307.20</td>\n",
              "      <td>331.78</td>\n",
              "      <td>326.68</td>\n",
              "    </tr>\n",
              "    <tr>\n",
              "      <th>4</th>\n",
              "      <td>339.97</td>\n",
              "      <td>307.20</td>\n",
              "      <td>334.34</td>\n",
              "      <td>317.44</td>\n",
              "    </tr>\n",
              "    <tr>\n",
              "      <th>5</th>\n",
              "      <td>334.84</td>\n",
              "      <td>337.92</td>\n",
              "      <td>335.87</td>\n",
              "      <td>337.90</td>\n",
              "    </tr>\n",
              "  </tbody>\n",
              "</table>\n",
              "</div>\n",
              "    <div class=\"colab-df-buttons\">\n",
              "\n",
              "  <div class=\"colab-df-container\">\n",
              "    <button class=\"colab-df-convert\" onclick=\"convertToInteractive('df-63a879a7-46c5-49c0-8cbe-cd5028b3a847')\"\n",
              "            title=\"Convert this dataframe to an interactive table.\"\n",
              "            style=\"display:none;\">\n",
              "\n",
              "  <svg xmlns=\"http://www.w3.org/2000/svg\" height=\"24px\" viewBox=\"0 -960 960 960\">\n",
              "    <path d=\"M120-120v-720h720v720H120Zm60-500h600v-160H180v160Zm220 220h160v-160H400v160Zm0 220h160v-160H400v160ZM180-400h160v-160H180v160Zm440 0h160v-160H620v160ZM180-180h160v-160H180v160Zm440 0h160v-160H620v160Z\"/>\n",
              "  </svg>\n",
              "    </button>\n",
              "\n",
              "  <style>\n",
              "    .colab-df-container {\n",
              "      display:flex;\n",
              "      gap: 12px;\n",
              "    }\n",
              "\n",
              "    .colab-df-convert {\n",
              "      background-color: #E8F0FE;\n",
              "      border: none;\n",
              "      border-radius: 50%;\n",
              "      cursor: pointer;\n",
              "      display: none;\n",
              "      fill: #1967D2;\n",
              "      height: 32px;\n",
              "      padding: 0 0 0 0;\n",
              "      width: 32px;\n",
              "    }\n",
              "\n",
              "    .colab-df-convert:hover {\n",
              "      background-color: #E2EBFA;\n",
              "      box-shadow: 0px 1px 2px rgba(60, 64, 67, 0.3), 0px 1px 3px 1px rgba(60, 64, 67, 0.15);\n",
              "      fill: #174EA6;\n",
              "    }\n",
              "\n",
              "    .colab-df-buttons div {\n",
              "      margin-bottom: 4px;\n",
              "    }\n",
              "\n",
              "    [theme=dark] .colab-df-convert {\n",
              "      background-color: #3B4455;\n",
              "      fill: #D2E3FC;\n",
              "    }\n",
              "\n",
              "    [theme=dark] .colab-df-convert:hover {\n",
              "      background-color: #434B5C;\n",
              "      box-shadow: 0px 1px 3px 1px rgba(0, 0, 0, 0.15);\n",
              "      filter: drop-shadow(0px 1px 2px rgba(0, 0, 0, 0.3));\n",
              "      fill: #FFFFFF;\n",
              "    }\n",
              "  </style>\n",
              "\n",
              "    <script>\n",
              "      const buttonEl =\n",
              "        document.querySelector('#df-63a879a7-46c5-49c0-8cbe-cd5028b3a847 button.colab-df-convert');\n",
              "      buttonEl.style.display =\n",
              "        google.colab.kernel.accessAllowed ? 'block' : 'none';\n",
              "\n",
              "      async function convertToInteractive(key) {\n",
              "        const element = document.querySelector('#df-63a879a7-46c5-49c0-8cbe-cd5028b3a847');\n",
              "        const dataTable =\n",
              "          await google.colab.kernel.invokeFunction('convertToInteractive',\n",
              "                                                    [key], {});\n",
              "        if (!dataTable) return;\n",
              "\n",
              "        const docLinkHtml = 'Like what you see? Visit the ' +\n",
              "          '<a target=\"_blank\" href=https://colab.research.google.com/notebooks/data_table.ipynb>data table notebook</a>'\n",
              "          + ' to learn more about interactive tables.';\n",
              "        element.innerHTML = '';\n",
              "        dataTable['output_type'] = 'display_data';\n",
              "        await google.colab.output.renderOutput(dataTable, element);\n",
              "        const docLink = document.createElement('div');\n",
              "        docLink.innerHTML = docLinkHtml;\n",
              "        element.appendChild(docLink);\n",
              "      }\n",
              "    </script>\n",
              "  </div>\n",
              "\n",
              "\n",
              "    <div id=\"df-655b2f15-8f5d-4d16-a6ca-7b843ed4c856\">\n",
              "      <button class=\"colab-df-quickchart\" onclick=\"quickchart('df-655b2f15-8f5d-4d16-a6ca-7b843ed4c856')\"\n",
              "                title=\"Suggest charts\"\n",
              "                style=\"display:none;\">\n",
              "\n",
              "<svg xmlns=\"http://www.w3.org/2000/svg\" height=\"24px\"viewBox=\"0 0 24 24\"\n",
              "     width=\"24px\">\n",
              "    <g>\n",
              "        <path d=\"M19 3H5c-1.1 0-2 .9-2 2v14c0 1.1.9 2 2 2h14c1.1 0 2-.9 2-2V5c0-1.1-.9-2-2-2zM9 17H7v-7h2v7zm4 0h-2V7h2v10zm4 0h-2v-4h2v4z\"/>\n",
              "    </g>\n",
              "</svg>\n",
              "      </button>\n",
              "\n",
              "<style>\n",
              "  .colab-df-quickchart {\n",
              "      --bg-color: #E8F0FE;\n",
              "      --fill-color: #1967D2;\n",
              "      --hover-bg-color: #E2EBFA;\n",
              "      --hover-fill-color: #174EA6;\n",
              "      --disabled-fill-color: #AAA;\n",
              "      --disabled-bg-color: #DDD;\n",
              "  }\n",
              "\n",
              "  [theme=dark] .colab-df-quickchart {\n",
              "      --bg-color: #3B4455;\n",
              "      --fill-color: #D2E3FC;\n",
              "      --hover-bg-color: #434B5C;\n",
              "      --hover-fill-color: #FFFFFF;\n",
              "      --disabled-bg-color: #3B4455;\n",
              "      --disabled-fill-color: #666;\n",
              "  }\n",
              "\n",
              "  .colab-df-quickchart {\n",
              "    background-color: var(--bg-color);\n",
              "    border: none;\n",
              "    border-radius: 50%;\n",
              "    cursor: pointer;\n",
              "    display: none;\n",
              "    fill: var(--fill-color);\n",
              "    height: 32px;\n",
              "    padding: 0;\n",
              "    width: 32px;\n",
              "  }\n",
              "\n",
              "  .colab-df-quickchart:hover {\n",
              "    background-color: var(--hover-bg-color);\n",
              "    box-shadow: 0 1px 2px rgba(60, 64, 67, 0.3), 0 1px 3px 1px rgba(60, 64, 67, 0.15);\n",
              "    fill: var(--button-hover-fill-color);\n",
              "  }\n",
              "\n",
              "  .colab-df-quickchart-complete:disabled,\n",
              "  .colab-df-quickchart-complete:disabled:hover {\n",
              "    background-color: var(--disabled-bg-color);\n",
              "    fill: var(--disabled-fill-color);\n",
              "    box-shadow: none;\n",
              "  }\n",
              "\n",
              "  .colab-df-spinner {\n",
              "    border: 2px solid var(--fill-color);\n",
              "    border-color: transparent;\n",
              "    border-bottom-color: var(--fill-color);\n",
              "    animation:\n",
              "      spin 1s steps(1) infinite;\n",
              "  }\n",
              "\n",
              "  @keyframes spin {\n",
              "    0% {\n",
              "      border-color: transparent;\n",
              "      border-bottom-color: var(--fill-color);\n",
              "      border-left-color: var(--fill-color);\n",
              "    }\n",
              "    20% {\n",
              "      border-color: transparent;\n",
              "      border-left-color: var(--fill-color);\n",
              "      border-top-color: var(--fill-color);\n",
              "    }\n",
              "    30% {\n",
              "      border-color: transparent;\n",
              "      border-left-color: var(--fill-color);\n",
              "      border-top-color: var(--fill-color);\n",
              "      border-right-color: var(--fill-color);\n",
              "    }\n",
              "    40% {\n",
              "      border-color: transparent;\n",
              "      border-right-color: var(--fill-color);\n",
              "      border-top-color: var(--fill-color);\n",
              "    }\n",
              "    60% {\n",
              "      border-color: transparent;\n",
              "      border-right-color: var(--fill-color);\n",
              "    }\n",
              "    80% {\n",
              "      border-color: transparent;\n",
              "      border-right-color: var(--fill-color);\n",
              "      border-bottom-color: var(--fill-color);\n",
              "    }\n",
              "    90% {\n",
              "      border-color: transparent;\n",
              "      border-bottom-color: var(--fill-color);\n",
              "    }\n",
              "  }\n",
              "</style>\n",
              "\n",
              "      <script>\n",
              "        async function quickchart(key) {\n",
              "          const quickchartButtonEl =\n",
              "            document.querySelector('#' + key + ' button');\n",
              "          quickchartButtonEl.disabled = true;  // To prevent multiple clicks.\n",
              "          quickchartButtonEl.classList.add('colab-df-spinner');\n",
              "          try {\n",
              "            const charts = await google.colab.kernel.invokeFunction(\n",
              "                'suggestCharts', [key], {});\n",
              "          } catch (error) {\n",
              "            console.error('Error during call to suggestCharts:', error);\n",
              "          }\n",
              "          quickchartButtonEl.classList.remove('colab-df-spinner');\n",
              "          quickchartButtonEl.classList.add('colab-df-quickchart-complete');\n",
              "        }\n",
              "        (() => {\n",
              "          let quickchartButtonEl =\n",
              "            document.querySelector('#df-655b2f15-8f5d-4d16-a6ca-7b843ed4c856 button');\n",
              "          quickchartButtonEl.style.display =\n",
              "            google.colab.kernel.accessAllowed ? 'block' : 'none';\n",
              "        })();\n",
              "      </script>\n",
              "    </div>\n",
              "\n",
              "  <div id=\"id_34711daa-413a-46a0-a430-bcfcc9bb5105\">\n",
              "    <style>\n",
              "      .colab-df-generate {\n",
              "        background-color: #E8F0FE;\n",
              "        border: none;\n",
              "        border-radius: 50%;\n",
              "        cursor: pointer;\n",
              "        display: none;\n",
              "        fill: #1967D2;\n",
              "        height: 32px;\n",
              "        padding: 0 0 0 0;\n",
              "        width: 32px;\n",
              "      }\n",
              "\n",
              "      .colab-df-generate:hover {\n",
              "        background-color: #E2EBFA;\n",
              "        box-shadow: 0px 1px 2px rgba(60, 64, 67, 0.3), 0px 1px 3px 1px rgba(60, 64, 67, 0.15);\n",
              "        fill: #174EA6;\n",
              "      }\n",
              "\n",
              "      [theme=dark] .colab-df-generate {\n",
              "        background-color: #3B4455;\n",
              "        fill: #D2E3FC;\n",
              "      }\n",
              "\n",
              "      [theme=dark] .colab-df-generate:hover {\n",
              "        background-color: #434B5C;\n",
              "        box-shadow: 0px 1px 3px 1px rgba(0, 0, 0, 0.15);\n",
              "        filter: drop-shadow(0px 1px 2px rgba(0, 0, 0, 0.3));\n",
              "        fill: #FFFFFF;\n",
              "      }\n",
              "    </style>\n",
              "    <button class=\"colab-df-generate\" onclick=\"generateWithVariable('df')\"\n",
              "            title=\"Generate code using this dataframe.\"\n",
              "            style=\"display:none;\">\n",
              "\n",
              "  <svg xmlns=\"http://www.w3.org/2000/svg\" height=\"24px\"viewBox=\"0 0 24 24\"\n",
              "       width=\"24px\">\n",
              "    <path d=\"M7,19H8.4L18.45,9,17,7.55,7,17.6ZM5,21V16.75L18.45,3.32a2,2,0,0,1,2.83,0l1.4,1.43a1.91,1.91,0,0,1,.58,1.4,1.91,1.91,0,0,1-.58,1.4L9.25,21ZM18.45,9,17,7.55Zm-12,3A5.31,5.31,0,0,0,4.9,8.1,5.31,5.31,0,0,0,1,6.5,5.31,5.31,0,0,0,4.9,4.9,5.31,5.31,0,0,0,6.5,1,5.31,5.31,0,0,0,8.1,4.9,5.31,5.31,0,0,0,12,6.5,5.46,5.46,0,0,0,6.5,12Z\"/>\n",
              "  </svg>\n",
              "    </button>\n",
              "    <script>\n",
              "      (() => {\n",
              "      const buttonEl =\n",
              "        document.querySelector('#id_34711daa-413a-46a0-a430-bcfcc9bb5105 button.colab-df-generate');\n",
              "      buttonEl.style.display =\n",
              "        google.colab.kernel.accessAllowed ? 'block' : 'none';\n",
              "\n",
              "      buttonEl.onclick = () => {\n",
              "        google.colab.notebook.generateWithVariable('df');\n",
              "      }\n",
              "      })();\n",
              "    </script>\n",
              "  </div>\n",
              "\n",
              "    </div>\n",
              "  </div>\n"
            ],
            "application/vnd.google.colaboratory.intrinsic+json": {
              "type": "dataframe",
              "variable_name": "df",
              "summary": "{\n  \"name\": \"df\",\n  \"rows\": 6,\n  \"fields\": [\n    {\n      \"column\": \"v(m/s)_g1\",\n      \"properties\": {\n        \"dtype\": \"number\",\n        \"std\": 9.01523469836847,\n        \"min\": 315.39,\n        \"max\": 339.97,\n        \"num_unique_values\": 6,\n        \"samples\": [\n          331.78,\n          328.7,\n          334.84\n        ],\n        \"semantic_type\": \"\",\n        \"description\": \"\"\n      }\n    },\n    {\n      \"column\": \"v(m/s)_g2\",\n      \"properties\": {\n        \"dtype\": \"number\",\n        \"std\": 12.541387483049883,\n        \"min\": 307.2,\n        \"max\": 337.92,\n        \"num_unique_values\": 3,\n        \"samples\": [\n          327.68,\n          307.2,\n          337.92\n        ],\n        \"semantic_type\": \"\",\n        \"description\": \"\"\n      }\n    },\n    {\n      \"column\": \"v(m/s)_g3\",\n      \"properties\": {\n        \"dtype\": \"number\",\n        \"std\": 4.742381961279229,\n        \"min\": 327.68,\n        \"max\": 342.02,\n        \"num_unique_values\": 6,\n        \"samples\": [\n          327.68,\n          334.85,\n          335.87\n        ],\n        \"semantic_type\": \"\",\n        \"description\": \"\"\n      }\n    },\n    {\n      \"column\": \"v(m/s)_g4\",\n      \"properties\": {\n        \"dtype\": \"number\",\n        \"std\": 12.514177160325005,\n        \"min\": 317.44,\n        \"max\": 348.16,\n        \"num_unique_values\": 6,\n        \"samples\": [\n          327.68,\n          348.16,\n          337.9\n        ],\n        \"semantic_type\": \"\",\n        \"description\": \"\"\n      }\n    }\n  ]\n}"
            }
          },
          "metadata": {},
          "execution_count": 106
        }
      ]
    },
    {
      "cell_type": "markdown",
      "source": [
        "#Grupo1"
      ],
      "metadata": {
        "id": "3bo9mxOMaQF9"
      }
    },
    {
      "cell_type": "code",
      "source": [
        "# prompt: Obten un intervalo de confianza del 95% de la v(m/s)\n",
        "\n",
        "# Calculate the mean and standard deviation\n",
        "mean = np.mean(df[\"v(m/s)_g1\"])\n",
        "std_dev = np.std(df[\"v(m/s)_g1\"], ddof=1) # Use ddof=1 for sample standard deviation\n",
        "\n",
        "# Calculate the 95% confidence interval\n",
        "confidence_level = 0.95\n",
        "degrees_of_freedom = len(df[\"v(m/s)_g1\"]) - 1\n",
        "critical_value = stats.t.ppf((1 + confidence_level) / 2, degrees_of_freedom)\n",
        "margin_of_error = critical_value * (std_dev / np.sqrt(len(df[\"v(m/s)_g1\"])))\n",
        "confidence_interval = (mean - margin_of_error, mean + margin_of_error)\n",
        "\n",
        "\n",
        "print(f\"Mean: {mean}\")\n",
        "print(f\"Standard Deviation: {std_dev}\")\n",
        "print(f\"95% Confidence Interval: {confidence_interval}\")\n",
        "\n",
        "plt.figure(figsize=(6, 4))\n",
        "plt.boxplot(df[\"v(m/s)_g1\"])\n",
        "plt.ylim(330,350)\n",
        "plt.show()"
      ],
      "metadata": {
        "colab": {
          "base_uri": "https://localhost:8080/",
          "height": 446
        },
        "id": "-7uK6HSpZ2_L",
        "outputId": "92ae3b9a-83e8-4525-9967-78a809c08d63"
      },
      "execution_count": 107,
      "outputs": [
        {
          "output_type": "stream",
          "name": "stdout",
          "text": [
            "Mean: 331.6116666666667\n",
            "Standard Deviation: 9.01523469836847\n",
            "95% Confidence Interval: (np.float64(322.15075807217187), np.float64(341.0725752611615))\n"
          ]
        },
        {
          "output_type": "display_data",
          "data": {
            "text/plain": [
              "<Figure size 600x400 with 1 Axes>"
            ],
            "image/png": "[encoded data removed]"
          },
          "metadata": {}
        }
      ]
    },
    {
      "cell_type": "markdown",
      "source": [
        "#Grupo2"
      ],
      "metadata": {
        "id": "hN_wO8fVagcI"
      }
    },
    {
      "cell_type": "code",
      "source": [
        "# prompt: Obten un intervalo de confianza del 95% de la v(m/s)\n",
        "\n",
        "# Calculate the mean and standard deviation\n",
        "mean = np.mean(df[\"v(m/s)_g2\"])\n",
        "std_dev = np.std(df[\"v(m/s)_g2\"], ddof=1) # Use ddof=1 for sample standard deviation\n",
        "\n",
        "# Calculate the 95% confidence interval\n",
        "confidence_level = 0.95\n",
        "degrees_of_freedom = len(df[\"v(m/s)_g2\"]) - 1\n",
        "critical_value = stats.t.ppf((1 + confidence_level) / 2, degrees_of_freedom)\n",
        "margin_of_error = critical_value * (std_dev / np.sqrt(len(df[\"v(m/s)_g2\"])))\n",
        "confidence_interval = (mean - margin_of_error, mean + margin_of_error)\n",
        "\n",
        "\n",
        "print(f\"Mean: {mean}\")\n",
        "print(f\"Standard Deviation: {std_dev}\")\n",
        "print(f\"95% Confidence Interval: {confidence_interval}\")\n",
        "\n",
        "plt.figure(figsize=(6, 4))\n",
        "plt.boxplot(df[\"v(m/s)_g2\"])\n",
        "plt.ylim(330,350)\n",
        "plt.show()"
      ],
      "metadata": {
        "colab": {
          "base_uri": "https://localhost:8080/",
          "height": 446
        },
        "id": "23kk2iIFaKcH",
        "outputId": "93005aa6-aa89-4fa3-d45a-f734ed39b0ea"
      },
      "execution_count": 108,
      "outputs": [
        {
          "output_type": "stream",
          "name": "stdout",
          "text": [
            "Mean: 322.56\n",
            "Standard Deviation: 12.541387483049883\n",
            "95% Confidence Interval: (np.float64(309.39862100154204), np.float64(335.72137899845796))\n"
          ]
        },
        {
          "output_type": "display_data",
          "data": {
            "text/plain": [
              "<Figure size 600x400 with 1 Axes>"
            ],
            "image/png": "[encoded data removed]"
          },
          "metadata": {}
        }
      ]
    },
    {
      "cell_type": "markdown",
      "source": [
        "#Grupo3"
      ],
      "metadata": {
        "id": "x5YhWfRma-KF"
      }
    },
    {
      "cell_type": "code",
      "source": [
        "# prompt: Obten un intervalo de confianza del 95% de la v(m/s)\n",
        "\n",
        "# Calculate the mean and standard deviation\n",
        "mean = np.mean(df[\"v(m/s)_g3\"])\n",
        "std_dev = np.std(df[\"v(m/s)_g3\"], ddof=1) # Use ddof=1 for sample standard deviation\n",
        "\n",
        "# Calculate the 95% confidence interval\n",
        "confidence_level = 0.95\n",
        "degrees_of_freedom = len(df[\"v(m/s)_g3\"]) - 1\n",
        "critical_value = stats.t.ppf((1 + confidence_level) / 2, degrees_of_freedom)\n",
        "margin_of_error = critical_value * (std_dev / np.sqrt(len(df[\"v(m/s)_g3\"])))\n",
        "confidence_interval = (mean - margin_of_error, mean + margin_of_error)\n",
        "\n",
        "\n",
        "print(f\"Mean: {mean}\")\n",
        "print(f\"Standard Deviation: {std_dev}\")\n",
        "print(f\"95% Confidence Interval: {confidence_interval}\")\n",
        "\n",
        "plt.figure(figsize=(6, 4))\n",
        "plt.boxplot(df[\"v(m/s)_g3\"])\n",
        "plt.ylim(330,350)\n",
        "plt.show()"
      ],
      "metadata": {
        "colab": {
          "base_uri": "https://localhost:8080/",
          "height": 426
        },
        "id": "VgUJ4Pxma_xe",
        "outputId": "e1212f40-128b-4554-dd22-507d252fd932"
      },
      "execution_count": 109,
      "outputs": [
        {
          "output_type": "stream",
          "name": "stdout",
          "text": [
            "Mean: 334.42333333333335\n",
            "Standard Deviation: 4.742381961279229\n",
            "95% Confidence Interval: (np.float64(329.4465086851671), np.float64(339.4001579814996))\n"
          ]
        },
        {
          "output_type": "display_data",
          "data": {
            "text/plain": [
              "<Figure size 600x400 with 1 Axes>"
            ],
            "image/png": "[encoded data removed]"
          },
          "metadata": {}
        }
      ]
    },
    {
      "cell_type": "markdown",
      "source": [
        "#Grupo4"
      ],
      "metadata": {
        "id": "t6fDKmUXbQQL"
      }
    },
    {
      "cell_type": "code",
      "source": [
        "# prompt: Obten un intervalo de confianza del 95% de la v(m/s)\n",
        "\n",
        "# Calculate the mean and standard deviation\n",
        "mean = np.mean(df[\"v(m/s)_g4\"])\n",
        "std_dev = np.std(df[\"v(m/s)_g4\"], ddof=1) # Use ddof=1 for sample standard deviation\n",
        "\n",
        "# Calculate the 95% confidence interval\n",
        "confidence_level = 0.95\n",
        "degrees_of_freedom = len(df[\"v(m/s)_g4\"]) - 1\n",
        "critical_value = stats.t.ppf((1 + confidence_level) / 2, degrees_of_freedom)\n",
        "margin_of_error = critical_value * (std_dev / np.sqrt(len(df[\"v(m/s)_g4\"])))\n",
        "confidence_interval = (mean - margin_of_error, mean + margin_of_error)\n",
        "\n",
        "\n",
        "print(f\"Mean: {mean}\")\n",
        "print(f\"Standard Deviation: {std_dev}\")\n",
        "print(f\"95% Confidence Interval: {confidence_interval}\")\n",
        "\n",
        "plt.figure(figsize=(6, 4))\n",
        "plt.boxplot(df[\"v(m/s)_g4\"])\n",
        "plt.ylim(330,350)\n",
        "plt.show()"
      ],
      "metadata": {
        "colab": {
          "base_uri": "https://localhost:8080/",
          "height": 446
        },
        "id": "0tzCv6yvbRo7",
        "outputId": "55c7d55e-0feb-44d4-d712-964ebba6964d"
      },
      "execution_count": 110,
      "outputs": [
        {
          "output_type": "stream",
          "name": "stdout",
          "text": [
            "Mean: 334.33500000000004\n",
            "Standard Deviation: 12.514177160325005\n",
            "95% Confidence Interval: (np.float64(321.20217648398267), np.float64(347.4678235160174))\n"
          ]
        },
        {
          "output_type": "display_data",
          "data": {
            "text/plain": [
              "<Figure size 600x400 with 1 Axes>"
            ],
            "image/png": "[encoded data removed]"
          },
          "metadata": {}
        }
      ]
    },
    {
      "cell_type": "code",
      "source": [
        "# prompt: Grafica los intervalos de confianza obtenidos para cada grupo\n",
        "\n",
        "# Data for each group\n",
        "\n",
        "confidence_intervals = {}\n",
        "\n",
        "for group, values in datos.items():\n",
        "    df = pd.DataFrame({\"v(m/s)\": values})\n",
        "    mean = np.mean(df[\"v(m/s)\"])\n",
        "    std_dev = np.std(df[\"v(m/s)\"], ddof=1)\n",
        "    confidence_level = 0.95\n",
        "    degrees_of_freedom = len(df[\"v(m/s)\"]) - 1\n",
        "    critical_value = stats.t.ppf((1 + confidence_level) / 2, degrees_of_freedom)\n",
        "    margin_of_error = critical_value * (std_dev / np.sqrt(len(df[\"v(m/s)\"])))\n",
        "    confidence_interval = (mean - margin_of_error, mean + margin_of_error)\n",
        "    confidence_intervals[group] = confidence_interval"
      ],
      "metadata": {
        "id": "AymOssyCbarW"
      },
      "execution_count": 111,
      "outputs": []
    },
    {
      "source": [
        "# Plotting\n",
        "plt.figure(figsize=(6, 4))\n",
        "for group, interval in confidence_intervals.items():\n",
        "    # Reshape yerr to (2, 1) to match the expected shape for a single point\n",
        "    plt.errorbar(group, np.mean(datos[group]),\n",
        "                 yerr=[[np.mean(datos[group]) - interval[0]], [interval[1]-np.mean(datos[group])]],  # Reshape yerr\n",
        "                 fmt='o', capsize=5, label=group)\n",
        "\n",
        "plt.ylabel('Velocidad (m/s)')\n",
        "plt.title('Intervalos de Confianza para cada Grupo')\n",
        "plt.xticks(rotation=45)\n",
        "plt.legend()\n",
        "plt.grid(True)\n",
        "plt.show()"
      ],
      "cell_type": "code",
      "metadata": {
        "colab": {
          "base_uri": "https://localhost:8080/",
          "height": 435
        },
        "id": "azVZjGE6bzFF",
        "outputId": "82a9d25f-cbb5-4217-daa1-7d09ed3ca8cc"
      },
      "execution_count": 112,
      "outputs": [
        {
          "output_type": "display_data",
          "data": {
            "text/plain": [
              "<Figure size 600x400 with 1 Axes>"
            ],
            "image/png": "[encoded data removed]"
          },
          "metadata": {}
        }
      ]
    },
    {
      "cell_type": "code",
      "source": [
        "# prompt: Grafica los 4 boxplots para cada grupo. Cada grupo alado del otro\n",
        "\n",
        "import matplotlib.pyplot as plt\n",
        "# Prepare data for combined boxplot\n",
        "data_to_plot = [datos[\"v(m/s)_g1\"], datos[\"v(m/s)_g2\"], datos[\"v(m/s)_g3\"], datos[\"v(m/s)_g4\"]]\n",
        "labels = [\"Grupo 1\", \"Grupo 2\", \"Grupo 3\", \"Grupo 4\"]\n",
        "\n",
        "# Create the boxplot\n",
        "plt.figure(figsize=(6,4))\n",
        "plt.boxplot(data_to_plot, labels=labels, patch_artist=True)\n",
        "plt.ylabel('Velocidad (m/s)')\n",
        "plt.title('Boxplots para cada Grupo')\n",
        "#plt.ylim(330, 350)\n",
        "plt.grid(axis='y')\n",
        "plt.show()"
      ],
      "metadata": {
        "colab": {
          "base_uri": "https://localhost:8080/",
          "height": 446
        },
        "id": "l33Hlox637QA",
        "outputId": "895c8c51-57ab-4410-f5e5-b03d0ed42337"
      },
      "execution_count": 113,
      "outputs": [
        {
          "output_type": "stream",
          "name": "stderr",
          "text": [
            "<ipython-input-113-421747356>:10: MatplotlibDeprecationWarning: The 'labels' parameter of boxplot() has been renamed 'tick_labels' since Matplotlib 3.9; support for the old name will be dropped in 3.11.\n",
            "  plt.boxplot(data_to_plot, labels=labels, patch_artist=True)\n"
          ]
        },
        {
          "output_type": "display_data",
          "data": {
            "text/plain": [
              "<Figure size 600x400 with 1 Axes>"
            ],
            "image/png": "[encoded data removed]"
          },
          "metadata": {}
        }
      ]
    }
  ]
}